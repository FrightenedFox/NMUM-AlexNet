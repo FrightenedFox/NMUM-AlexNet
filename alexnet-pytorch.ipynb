{
 "cells": [
  {
   "cell_type": "code",
   "execution_count": 7,
   "metadata": {},
   "outputs": [],
   "source": [
    "import torch\n",
    "import torchvision\n",
    "import torchvision.transforms as transforms\n",
    "\n",
    "import torch.nn as nn\n",
    "import torch.nn.functional as F"
   ]
  },
  {
   "cell_type": "code",
   "execution_count": 2,
   "metadata": {},
   "outputs": [
    {
     "name": "stdout",
     "output_type": "stream",
     "text": [
      "cuda:0\n"
     ]
    }
   ],
   "source": [
    "device = torch.device('cuda:0' if torch.cuda.is_available() else 'cpu')\n",
    "print(device)"
   ]
  },
  {
   "attachments": {},
   "cell_type": "markdown",
   "metadata": {},
   "source": [
    "# 2. The dataset\n",
    "\n",
    "> ILSVRC-2010 is the only version of ILSVRC for which the test set labels are available, so this is\n",
    "> the version on which we performed most of our experiments. Since we also entered our model in\n",
    "> the ILSVRC-2012 competition, in Section 6 we report our results on this version of the dataset as\n",
    "> well, for which test set labels are unavailable. On ImageNet, it is customary to report two error rates:\n",
    "> top-1 and top-5, where the top-5 error rate is the fraction of test images for which the correct label\n",
    "> is not among the five labels considered most probable by the model\n",
    "\n",
    "\n",
    "Używam więc ILSVRC-2012, ponieważ nie potrafiłem pobrać wersji ILSVRC-2010\n",
    "\n",
    "\n",
    "> We did not pre-process the images\n",
    "> in any other way, except for subtracting the mean activity over the training set from each pixel. So\n",
    "> we trained our network on the (centered) raw RGB values of the pixels.\n",
    "\n",
    "Średnia wartość zostanie odjęta od każdego piksela"
   ]
  },
  {
   "cell_type": "code",
   "execution_count": 5,
   "metadata": {},
   "outputs": [
    {
     "ename": "RuntimeError",
     "evalue": "The archive ILSVRC2012_img_train.tar is not present in the root directory or is corrupted. You need to download it externally and place it in ./data/.",
     "output_type": "error",
     "traceback": [
      "\u001b[0;31m---------------------------------------------------------------------------\u001b[0m",
      "\u001b[0;31mRuntimeError\u001b[0m                              Traceback (most recent call last)",
      "Cell \u001b[0;32mIn[5], line 1\u001b[0m\n\u001b[0;32m----> 1\u001b[0m ILSVRC2012 \u001b[39m=\u001b[39m torchvision\u001b[39m.\u001b[39;49mdatasets\u001b[39m.\u001b[39;49mImageNet(\u001b[39m'\u001b[39;49m\u001b[39m./data/\u001b[39;49m\u001b[39m'\u001b[39;49m)\n",
      "File \u001b[0;32m~/miniconda3/envs/dstools/lib/python3.10/site-packages/torchvision/datasets/imagenet.py:46\u001b[0m, in \u001b[0;36mImageNet.__init__\u001b[0;34m(self, root, split, **kwargs)\u001b[0m\n\u001b[1;32m     43\u001b[0m root \u001b[39m=\u001b[39m \u001b[39mself\u001b[39m\u001b[39m.\u001b[39mroot \u001b[39m=\u001b[39m os\u001b[39m.\u001b[39mpath\u001b[39m.\u001b[39mexpanduser(root)\n\u001b[1;32m     44\u001b[0m \u001b[39mself\u001b[39m\u001b[39m.\u001b[39msplit \u001b[39m=\u001b[39m verify_str_arg(split, \u001b[39m\"\u001b[39m\u001b[39msplit\u001b[39m\u001b[39m\"\u001b[39m, (\u001b[39m\"\u001b[39m\u001b[39mtrain\u001b[39m\u001b[39m\"\u001b[39m, \u001b[39m\"\u001b[39m\u001b[39mval\u001b[39m\u001b[39m\"\u001b[39m))\n\u001b[0;32m---> 46\u001b[0m \u001b[39mself\u001b[39;49m\u001b[39m.\u001b[39;49mparse_archives()\n\u001b[1;32m     47\u001b[0m wnid_to_classes \u001b[39m=\u001b[39m load_meta_file(\u001b[39mself\u001b[39m\u001b[39m.\u001b[39mroot)[\u001b[39m0\u001b[39m]\n\u001b[1;32m     49\u001b[0m \u001b[39msuper\u001b[39m()\u001b[39m.\u001b[39m\u001b[39m__init__\u001b[39m(\u001b[39mself\u001b[39m\u001b[39m.\u001b[39msplit_folder, \u001b[39m*\u001b[39m\u001b[39m*\u001b[39mkwargs)\n",
      "File \u001b[0;32m~/miniconda3/envs/dstools/lib/python3.10/site-packages/torchvision/datasets/imagenet.py:63\u001b[0m, in \u001b[0;36mImageNet.parse_archives\u001b[0;34m(self)\u001b[0m\n\u001b[1;32m     61\u001b[0m \u001b[39mif\u001b[39;00m \u001b[39mnot\u001b[39;00m os\u001b[39m.\u001b[39mpath\u001b[39m.\u001b[39misdir(\u001b[39mself\u001b[39m\u001b[39m.\u001b[39msplit_folder):\n\u001b[1;32m     62\u001b[0m     \u001b[39mif\u001b[39;00m \u001b[39mself\u001b[39m\u001b[39m.\u001b[39msplit \u001b[39m==\u001b[39m \u001b[39m\"\u001b[39m\u001b[39mtrain\u001b[39m\u001b[39m\"\u001b[39m:\n\u001b[0;32m---> 63\u001b[0m         parse_train_archive(\u001b[39mself\u001b[39;49m\u001b[39m.\u001b[39;49mroot)\n\u001b[1;32m     64\u001b[0m     \u001b[39melif\u001b[39;00m \u001b[39mself\u001b[39m\u001b[39m.\u001b[39msplit \u001b[39m==\u001b[39m \u001b[39m\"\u001b[39m\u001b[39mval\u001b[39m\u001b[39m\"\u001b[39m:\n\u001b[1;32m     65\u001b[0m         parse_val_archive(\u001b[39mself\u001b[39m\u001b[39m.\u001b[39mroot)\n",
      "File \u001b[0;32m~/miniconda3/envs/dstools/lib/python3.10/site-packages/torchvision/datasets/imagenet.py:169\u001b[0m, in \u001b[0;36mparse_train_archive\u001b[0;34m(root, file, folder)\u001b[0m\n\u001b[1;32m    166\u001b[0m     file \u001b[39m=\u001b[39m archive_meta[\u001b[39m0\u001b[39m]\n\u001b[1;32m    167\u001b[0m md5 \u001b[39m=\u001b[39m archive_meta[\u001b[39m1\u001b[39m]\n\u001b[0;32m--> 169\u001b[0m _verify_archive(root, file, md5)\n\u001b[1;32m    171\u001b[0m train_root \u001b[39m=\u001b[39m os\u001b[39m.\u001b[39mpath\u001b[39m.\u001b[39mjoin(root, folder)\n\u001b[1;32m    172\u001b[0m extract_archive(os\u001b[39m.\u001b[39mpath\u001b[39m.\u001b[39mjoin(root, file), train_root)\n",
      "File \u001b[0;32m~/miniconda3/envs/dstools/lib/python3.10/site-packages/torchvision/datasets/imagenet.py:96\u001b[0m, in \u001b[0;36m_verify_archive\u001b[0;34m(root, file, md5)\u001b[0m\n\u001b[1;32m     91\u001b[0m \u001b[39mif\u001b[39;00m \u001b[39mnot\u001b[39;00m check_integrity(os\u001b[39m.\u001b[39mpath\u001b[39m.\u001b[39mjoin(root, file), md5):\n\u001b[1;32m     92\u001b[0m     msg \u001b[39m=\u001b[39m (\n\u001b[1;32m     93\u001b[0m         \u001b[39m\"\u001b[39m\u001b[39mThe archive \u001b[39m\u001b[39m{}\u001b[39;00m\u001b[39m is not present in the root directory or is corrupted. \u001b[39m\u001b[39m\"\u001b[39m\n\u001b[1;32m     94\u001b[0m         \u001b[39m\"\u001b[39m\u001b[39mYou need to download it externally and place it in \u001b[39m\u001b[39m{}\u001b[39;00m\u001b[39m.\u001b[39m\u001b[39m\"\u001b[39m\n\u001b[1;32m     95\u001b[0m     )\n\u001b[0;32m---> 96\u001b[0m     \u001b[39mraise\u001b[39;00m \u001b[39mRuntimeError\u001b[39;00m(msg\u001b[39m.\u001b[39mformat(file, root))\n",
      "\u001b[0;31mRuntimeError\u001b[0m: The archive ILSVRC2012_img_train.tar is not present in the root directory or is corrupted. You need to download it externally and place it in ./data/."
     ]
    }
   ],
   "source": [
    "ILSVRC2012 = torchvision.datasets.ImageNet('./data/')\n",
    "\n",
    "\n",
    "data_loader = torch.utils.data.DataLoader(\n",
    "    ILSVRC2012,\n",
    "    batch_size=128,\n",
    "    shuffle=False,\n",
    "    num_workers=8\n",
    ")"
   ]
  },
  {
   "cell_type": "code",
   "execution_count": null,
   "metadata": {},
   "outputs": [],
   "source": [
    "\n",
    "class AlexNet(nn.Module):\n",
    "    def __init__(self):\n",
    "        super().__init__()\n",
    "        self.pool_max_3x3_st2 = nn.MaxPool2d(kernel_size=3, stride=2)\n",
    "        self.conv1_11x11_st4 = nn.Conv2d(in_channels=3, out_channels=96, kernel_size=11, stride=4)\n",
    "        self.conv2_5x5_pad2 = nn.Conv2d(in_channels=96, out_channels=256, kernel_size=5, padding=2)\n",
    "        self.conv3_3x3_pad1 = nn.Conv2d(in_channels=256, out_channels=384, kernel_size=3, padding=1)\n",
    "        self.conv4_3x3_pad1 = nn.Conv2d(in_channels=384, out_channels=384, kernel_size=3, padding=1)\n",
    "        self.conv5_3x3_pad1 = nn.Conv2d(in_channels=384, out_channels=256, kernel_size=3, padding=1)\n",
    "        self.fc1 = nn.Linear(256 * 5 * 5, 4096)\n",
    "        self.fc2 = nn.Linear(4096, 4096)\n",
    "        self.fc3 = nn.Linear(4096, 1000)\n",
    "\n",
    "    def forward(self, x):\n",
    "        # ...\n",
    "        return x\n"
   ]
  }
 ],
 "metadata": {
  "kernelspec": {
   "display_name": "dstools",
   "language": "python",
   "name": "python3"
  },
  "language_info": {
   "codemirror_mode": {
    "name": "ipython",
    "version": 3
   },
   "file_extension": ".py",
   "mimetype": "text/x-python",
   "name": "python",
   "nbconvert_exporter": "python",
   "pygments_lexer": "ipython3",
   "version": "3.10.9"
  },
  "orig_nbformat": 4
 },
 "nbformat": 4,
 "nbformat_minor": 2
}
